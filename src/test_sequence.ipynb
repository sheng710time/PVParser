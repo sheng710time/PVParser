{
 "cells": [
  {
   "cell_type": "code",
   "execution_count": 1,
   "metadata": {},
   "outputs": [
    {
     "name": "stdout",
     "output_type": "stream",
     "text": [
      "Extracting directed length sequence...\n",
      "(Decimal('1575597904.409803'), 'C-108-0')\n",
      "(Decimal('1575597904.415631'), 'S-233-0')\n",
      "(Decimal('1575597904.527581'), 'C-108-0')\n",
      "(Decimal('1575597904.532814'), 'S-233-0')\n",
      "(Decimal('1575597904.910430'), 'C-108-0')\n",
      "(Decimal('1575597904.913992'), 'S-233-0')\n",
      "(Decimal('1575597905.011635'), 'C-108-0')\n",
      "(Decimal('1575597905.015856'), 'S-233-0')\n",
      "(Decimal('1575597905.413709'), 'C-108-0')\n",
      "(Decimal('1575597905.418287'), 'S-233-0')\n",
      "Sequence information saved to: ../dataset/swat/Dec2019_00000_20191206100500_00000w_filtered(192.168.1.10-192.168.1.200)_test_kept_app_length_control_sequence.csv\n",
      "\n",
      "Statistics:\n",
      "total_packets: 286\n",
      "avg_length: 170.5\n",
      "std_length: 62.5\n",
      "min_length: 108\n",
      "max_length: 233\n",
      "C_count: 143\n",
      "S_count: 143\n"
     ]
    }
   ],
   "source": [
    "# Extract directional packet sequence\n",
    "\n",
    "from pathlib import Path\n",
    "from packet_length_extractor import *\n",
    "\n",
    "# pcap_file = \"../dataset/scada/Modbus_polling_only_6RTU(106).pcap\"\n",
    "pcap_file = \"../dataset/swat/Dec2019_00000_20191206100500_00000w_filtered(192.168.1.10-192.168.1.200)_test_kept_app.pcap\"\n",
    "    \n",
    "if Path(pcap_file).exists():\n",
    "    print(\"Extracting directed length sequence...\")\n",
    "        \n",
    "    # Extract all information\n",
    "    packets_info, dir_len_con_sequence, dir_len_sequence = extract_directed_length_sequence_with_control(pcap_file, protocol='enip')\n",
    "    for dir_len_con in dir_len_con_sequence[:10]:\n",
    "        print(dir_len_con)\n",
    "        \n",
    "    # Save to CSV\n",
    "    output_file = pcap_file.replace('.pcap', '_length_control_sequence.csv')\n",
    "    save_sequence_to_csv(packets_info, output_file)\n",
    "        \n",
    "    # Analyze statistics\n",
    "    stats = analyze_sequence_statistics(packets_info)\n",
    "    print(\"\\nStatistics:\")\n",
    "    for key, value in stats.items():\n",
    "        print(f\"{key}: {value}\")\n",
    "        \n",
    "else:\n",
    "    print(f\"File not found: {pcap_file}\")"
   ]
  },
  {
   "cell_type": "code",
   "execution_count": 3,
   "metadata": {},
   "outputs": [
    {
     "name": "stdout",
     "output_type": "stream",
     "text": [
      "Extracting directed length sequence...\n",
      "Successfully read 502 packets from ../dataset/swat/Dec2019_00000_20191206100500_00000w_filtered(192.168.1.10-192.168.1.200)_test_kept_length_control_sequence.csv\n",
      "Totally matched 56 times\n",
      "Match ratio: 0.781\n",
      "Average interval: 0.730\n",
      "Standard deviation: 0.315\n"
     ]
    }
   ],
   "source": [
    "# Split sequence by pattern\n",
    "\n",
    "from pathlib import Path\n",
    "from packet_length_extractor import *\n",
    "\n",
    "csv_file = \"../dataset/swat/Dec2019_00000_20191206100500_00000w_filtered(192.168.1.10-192.168.1.200)_test_kept_length_control_sequence.csv\"\n",
    "\n",
    "if Path(csv_file).exists():\n",
    "    print(\"Extracting directed length sequence...\")\n",
    "    \n",
    "    # pattern = ['C-108', 'S-60', 'S-233', 'C-60', 'C-108', 'S-60', 'S-233', 'C-60']\n",
    "    pattern = ['C-108', 'S-60', 'S-233', 'C-108', 'S-60', 'S-233', 'C-60']\n",
    "    _, dir_len_sequence = read_sequence_from_csv(csv_file, \"dir_len\")\n",
    "    split_sequence, matched_indices, match_ratio, avg_interval, std_interval = split_sequence_by_pattern(dir_len_sequence, pattern)\n",
    "    print(f\"Totally matched {len(matched_indices)} times\")\n",
    "    print(f\"Match ratio: {match_ratio:.3f}\")\n",
    "    print(f\"Average interval: {avg_interval:.3f}\")\n",
    "    print(f\"Standard deviation: {std_interval:.3f}\")\n",
    "    "
   ]
  }
 ],
 "metadata": {
  "kernelspec": {
   "display_name": "pvparser",
   "language": "python",
   "name": "python3"
  },
  "language_info": {
   "codemirror_mode": {
    "name": "ipython",
    "version": 3
   },
   "file_extension": ".py",
   "mimetype": "text/x-python",
   "name": "python",
   "nbconvert_exporter": "python",
   "pygments_lexer": "ipython3",
   "version": "3.12.2"
  }
 },
 "nbformat": 4,
 "nbformat_minor": 2
}
